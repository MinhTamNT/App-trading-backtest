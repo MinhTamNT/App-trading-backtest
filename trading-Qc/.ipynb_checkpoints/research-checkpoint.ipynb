{
 "cells": [
  {
   "cell_type": "markdown",
   "metadata": {},
   "source": [
    "![QuantConnect Logo](https://cdn.quantconnect.com/web/i/icon.png)\n",
    "<hr>"
   ]
  },
  {
   "cell_type": "code",
   "execution_count": 13,
   "metadata": {
    "ExecuteTime": {
     "end_time": "2024-09-17T07:01:46.582480Z",
     "start_time": "2024-09-17T07:01:45.988251Z"
    }
   },
   "outputs": [
    {
     "ename": "NameError",
     "evalue": "name 'qb' is not defined",
     "output_type": "error",
     "traceback": [
      "\u001b[0;31m---------------------------------------------------------------------------\u001b[0m",
      "\u001b[0;31mNameError\u001b[0m                                 Traceback (most recent call last)",
      "Cell \u001b[0;32mIn[13], line 3\u001b[0m\n\u001b[1;32m      1\u001b[0m \u001b[38;5;66;03m# QuantBook Analysis Tool \u001b[39;00m\n\u001b[1;32m      2\u001b[0m \u001b[38;5;66;03m# For more information see [https://www.quantconnect.com/docs/v2/our-platform/research/getting-started]\u001b[39;00m\n\u001b[0;32m----> 3\u001b[0m spy \u001b[38;5;241m=\u001b[39m \u001b[43mqb\u001b[49m\u001b[38;5;241m.\u001b[39madd_equity(\u001b[38;5;124m\"\u001b[39m\u001b[38;5;124mSPY\u001b[39m\u001b[38;5;124m\"\u001b[39m)\n\u001b[1;32m      4\u001b[0m \u001b[38;5;66;03m# Locally Lean installs free sample data, to download more data please visit https://www.quantconnect.com/docs/v2/lean-cli/datasets/downloading-data \u001b[39;00m\n\u001b[1;32m      5\u001b[0m qb\u001b[38;5;241m.\u001b[39mset_start_date(\u001b[38;5;241m2013\u001b[39m, \u001b[38;5;241m10\u001b[39m, \u001b[38;5;241m11\u001b[39m)\n",
      "\u001b[0;31mNameError\u001b[0m: name 'qb' is not defined"
     ]
    }
   ],
   "source": [
    "# Create a QuantBook\n",
    "qb = QuantBook()\n",
    "\n",
    "# Create a security subscription\n",
    "spy = qb.add_equity(\"SPY\")\n",
    "\n",
    "# Request some historical data\n",
    "history = qb.history(qb.securities.keys(), 360, Resolution.DAILY)\n",
    "\n",
    "# Calculate the Bollinger Bands\n",
    "bbdf = qb.indicator(BollingerBands(30, 2), spy.symbol, 360, Resolution.DAILY)\n",
    "\n",
    "# Plot the data\n",
    "bbdf.drop('standarddeviation', 1).plot()"
   ]
  },
  {
   "cell_type": "code",
   "execution_count": 12,
   "metadata": {},
   "outputs": [
    {
     "name": "stdout",
     "output_type": "stream",
     "text": [
      "hello\n"
     ]
    }
   ],
   "source": [
    "print(\"hello\")"
   ]
  },
  {
   "cell_type": "markdown",
   "metadata": {},
   "source": []
  },
  {
   "cell_type": "code",
   "execution_count": null,
   "metadata": {},
   "outputs": [],
   "source": []
  },
  {
   "cell_type": "markdown",
   "metadata": {},
   "source": []
  }
 ],
 "metadata": {
  "kernelspec": {
   "display_name": "Foundation-Py-Default",
   "language": "python",
   "name": "python3"
  },
  "language_info": {
   "codemirror_mode": {
    "name": "ipython",
    "version": 3
   },
   "file_extension": ".py",
   "mimetype": "text/x-python",
   "name": "python",
   "nbconvert_exporter": "python",
   "pygments_lexer": "ipython3",
   "version": "3.11.7"
  }
 },
 "nbformat": 4,
 "nbformat_minor": 4
}
